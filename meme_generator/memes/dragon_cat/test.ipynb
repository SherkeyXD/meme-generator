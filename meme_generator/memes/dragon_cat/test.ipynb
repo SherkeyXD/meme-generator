{
 "cells": [
  {
   "cell_type": "markdown",
   "metadata": {
    "isInteractiveWindowMessageCell": true
   },
   "source": [
    "Connected to Python 3.10.13"
   ]
  },
  {
   "cell_type": "code",
   "execution_count": 15,
   "metadata": {},
   "outputs": [],
   "source": [
    "from pathlib import Path\n",
    "from PIL import Image\n",
    "from typing import List, Tuple\n",
    "\n",
    "img = \"/workspaces/meme-generator/meme_generator/memes/dragon_cat/images/background.jpg\"\n",
    "image = Image.open(img).convert(\"RGB\")"
   ]
  },
  {
   "cell_type": "code",
   "execution_count": 16,
   "metadata": {},
   "outputs": [],
   "source": [
    "def draw(pos: Tuple[float, float, float, float], text: str):\n",
    "    global image\n",
    "    try:\n",
    "        image.draw_text(\n",
    "            pos, text, max_fontsize=30, min_fontsize=12, allow_wrap=True\n",
    "        )\n",
    "    except ValueError:\n",
    "        raise ValueError(\"Text too long for frame\")"
   ]
  },
  {
   "cell_type": "code",
   "execution_count": 17,
   "metadata": {},
   "outputs": [
    {
     "ename": "AttributeError",
     "evalue": "'Image' object has no attribute 'draw_text'",
     "output_type": "error",
     "traceback": [
      "\u001b[0;31m---------------------------------------------------------------------------\u001b[0m",
      "\u001b[0;31mAttributeError\u001b[0m                            Traceback (most recent call last)",
      "\u001b[1;32m/workspaces/meme-generator/meme_generator/memes/dragon_cat/test.ipynb Cell 4\u001b[0m line \u001b[0;36m2\n\u001b[1;32m      <a href='vscode-notebook-cell://codespaces%2Borganic-funicular-xpp4qxqqjqx3qgq/workspaces/meme-generator/meme_generator/memes/dragon_cat/test.ipynb#W2sdnNjb2RlLXJlbW90ZQ%3D%3D?line=0'>1</a>\u001b[0m \u001b[39m# (578, 542)\u001b[39;00m\n\u001b[0;32m----> <a href='vscode-notebook-cell://codespaces%2Borganic-funicular-xpp4qxqqjqx3qgq/workspaces/meme-generator/meme_generator/memes/dragon_cat/test.ipynb#W2sdnNjb2RlLXJlbW90ZQ%3D%3D?line=1'>2</a>\u001b[0m draw((\u001b[39m0\u001b[39;49m, \u001b[39m0\u001b[39;49m, \u001b[39m100\u001b[39;49m, \u001b[39m100\u001b[39;49m), \u001b[39m\"\u001b[39;49m\u001b[39mHello World\u001b[39;49m\u001b[39m\"\u001b[39;49m)\n\u001b[1;32m      <a href='vscode-notebook-cell://codespaces%2Borganic-funicular-xpp4qxqqjqx3qgq/workspaces/meme-generator/meme_generator/memes/dragon_cat/test.ipynb#W2sdnNjb2RlLXJlbW90ZQ%3D%3D?line=2'>3</a>\u001b[0m image\u001b[39m.\u001b[39mshow()\n",
      "\u001b[1;32m/workspaces/meme-generator/meme_generator/memes/dragon_cat/test.ipynb Cell 4\u001b[0m line \u001b[0;36m4\n\u001b[1;32m      <a href='vscode-notebook-cell://codespaces%2Borganic-funicular-xpp4qxqqjqx3qgq/workspaces/meme-generator/meme_generator/memes/dragon_cat/test.ipynb#W2sdnNjb2RlLXJlbW90ZQ%3D%3D?line=1'>2</a>\u001b[0m \u001b[39mglobal\u001b[39;00m image\n\u001b[1;32m      <a href='vscode-notebook-cell://codespaces%2Borganic-funicular-xpp4qxqqjqx3qgq/workspaces/meme-generator/meme_generator/memes/dragon_cat/test.ipynb#W2sdnNjb2RlLXJlbW90ZQ%3D%3D?line=2'>3</a>\u001b[0m \u001b[39mtry\u001b[39;00m:\n\u001b[0;32m----> <a href='vscode-notebook-cell://codespaces%2Borganic-funicular-xpp4qxqqjqx3qgq/workspaces/meme-generator/meme_generator/memes/dragon_cat/test.ipynb#W2sdnNjb2RlLXJlbW90ZQ%3D%3D?line=3'>4</a>\u001b[0m     image\u001b[39m.\u001b[39;49mdraw_text(\n\u001b[1;32m      <a href='vscode-notebook-cell://codespaces%2Borganic-funicular-xpp4qxqqjqx3qgq/workspaces/meme-generator/meme_generator/memes/dragon_cat/test.ipynb#W2sdnNjb2RlLXJlbW90ZQ%3D%3D?line=4'>5</a>\u001b[0m         pos, text, max_fontsize\u001b[39m=\u001b[39m\u001b[39m30\u001b[39m, min_fontsize\u001b[39m=\u001b[39m\u001b[39m12\u001b[39m, allow_wrap\u001b[39m=\u001b[39m\u001b[39mTrue\u001b[39;00m\n\u001b[1;32m      <a href='vscode-notebook-cell://codespaces%2Borganic-funicular-xpp4qxqqjqx3qgq/workspaces/meme-generator/meme_generator/memes/dragon_cat/test.ipynb#W2sdnNjb2RlLXJlbW90ZQ%3D%3D?line=5'>6</a>\u001b[0m     )\n\u001b[1;32m      <a href='vscode-notebook-cell://codespaces%2Borganic-funicular-xpp4qxqqjqx3qgq/workspaces/meme-generator/meme_generator/memes/dragon_cat/test.ipynb#W2sdnNjb2RlLXJlbW90ZQ%3D%3D?line=6'>7</a>\u001b[0m \u001b[39mexcept\u001b[39;00m \u001b[39mValueError\u001b[39;00m:\n\u001b[1;32m      <a href='vscode-notebook-cell://codespaces%2Borganic-funicular-xpp4qxqqjqx3qgq/workspaces/meme-generator/meme_generator/memes/dragon_cat/test.ipynb#W2sdnNjb2RlLXJlbW90ZQ%3D%3D?line=7'>8</a>\u001b[0m     \u001b[39mraise\u001b[39;00m \u001b[39mValueError\u001b[39;00m(\u001b[39m\"\u001b[39m\u001b[39mText too long for frame\u001b[39m\u001b[39m\"\u001b[39m)\n",
      "\u001b[0;31mAttributeError\u001b[0m: 'Image' object has no attribute 'draw_text'"
     ]
    }
   ],
   "source": [
    "# (578, 542)\n",
    "draw((0, 0, 100, 100), \"Hello World\")\n",
    "image.show()"
   ]
  }
 ],
 "metadata": {
  "kernelspec": {
   "display_name": "Python 3",
   "language": "python",
   "name": "python3"
  },
  "language_info": {
   "codemirror_mode": {
    "name": "ipython",
    "version": 3
   },
   "file_extension": ".py",
   "mimetype": "text/x-python",
   "name": "python",
   "nbconvert_exporter": "python",
   "pygments_lexer": "ipython3",
   "version": "3.10.13"
  }
 },
 "nbformat": 4,
 "nbformat_minor": 2
}
